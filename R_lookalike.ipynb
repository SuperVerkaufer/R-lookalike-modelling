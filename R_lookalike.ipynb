{
  "cells": [
    {
      "cell_type": "markdown",
      "metadata": {
        "id": "view-in-github",
        "colab_type": "text"
      },
      "source": [
        "<a href=\"https://colab.research.google.com/github/SuperVerkaufer/R-lookalike-modelling/blob/main/R_lookalike.ipynb\" target=\"_parent\"><img src=\"https://colab.research.google.com/assets/colab-badge.svg\" alt=\"Open In Colab\"/></a>"
      ]
    },
    {
      "cell_type": "code",
      "execution_count": 2,
      "metadata": {
        "id": "vCUkiAfVbTLe"
      },
      "outputs": [],
      "source": [
        "# Re-write python code for lookalike modelling in R\n",
        "%load_ext rpy2.ipython"
      ]
    },
    {
      "cell_type": "code",
      "execution_count": 6,
      "metadata": {
        "colab": {
          "base_uri": "https://localhost:8080/"
        },
        "id": "S5F3KyyecEzF",
        "outputId": "006a982f-9844-400a-dcab-8b81061fbb22"
      },
      "outputs": [
        {
          "output_type": "stream",
          "name": "stderr",
          "text": [
            "WARNING:rpy2.rinterface_lib.callbacks:R[write to console]: Installing package into ‘/usr/local/lib/R/site-library’\n",
            "(as ‘lib’ is unspecified)\n",
            "\n",
            "WARNING:rpy2.rinterface_lib.callbacks:R[write to console]: trying URL 'https://cran.rstudio.com/src/contrib/dplyr_1.1.4.tar.gz'\n",
            "\n",
            "WARNING:rpy2.rinterface_lib.callbacks:R[write to console]: Content type 'application/x-gzip'\n",
            "WARNING:rpy2.rinterface_lib.callbacks:R[write to console]:  length 1207521 bytes (1.2 MB)\n",
            "\n",
            "WARNING:rpy2.rinterface_lib.callbacks:R[write to console]: =\n",
            "WARNING:rpy2.rinterface_lib.callbacks:R[write to console]: =\n",
            "WARNING:rpy2.rinterface_lib.callbacks:R[write to console]: =\n",
            "WARNING:rpy2.rinterface_lib.callbacks:R[write to console]: =\n",
            "WARNING:rpy2.rinterface_lib.callbacks:R[write to console]: =\n",
            "WARNING:rpy2.rinterface_lib.callbacks:R[write to console]: =\n",
            "WARNING:rpy2.rinterface_lib.callbacks:R[write to console]: =\n",
            "WARNING:rpy2.rinterface_lib.callbacks:R[write to console]: =\n",
            "WARNING:rpy2.rinterface_lib.callbacks:R[write to console]: =\n",
            "WARNING:rpy2.rinterface_lib.callbacks:R[write to console]: =\n",
            "WARNING:rpy2.rinterface_lib.callbacks:R[write to console]: =\n",
            "WARNING:rpy2.rinterface_lib.callbacks:R[write to console]: =\n",
            "WARNING:rpy2.rinterface_lib.callbacks:R[write to console]: =\n",
            "WARNING:rpy2.rinterface_lib.callbacks:R[write to console]: =\n",
            "WARNING:rpy2.rinterface_lib.callbacks:R[write to console]: =\n",
            "WARNING:rpy2.rinterface_lib.callbacks:R[write to console]: =\n",
            "WARNING:rpy2.rinterface_lib.callbacks:R[write to console]: =\n",
            "WARNING:rpy2.rinterface_lib.callbacks:R[write to console]: =\n",
            "WARNING:rpy2.rinterface_lib.callbacks:R[write to console]: =\n",
            "WARNING:rpy2.rinterface_lib.callbacks:R[write to console]: =\n",
            "WARNING:rpy2.rinterface_lib.callbacks:R[write to console]: =\n",
            "WARNING:rpy2.rinterface_lib.callbacks:R[write to console]: =\n",
            "WARNING:rpy2.rinterface_lib.callbacks:R[write to console]: =\n",
            "WARNING:rpy2.rinterface_lib.callbacks:R[write to console]: =\n",
            "WARNING:rpy2.rinterface_lib.callbacks:R[write to console]: =\n",
            "WARNING:rpy2.rinterface_lib.callbacks:R[write to console]: =\n",
            "WARNING:rpy2.rinterface_lib.callbacks:R[write to console]: =\n",
            "WARNING:rpy2.rinterface_lib.callbacks:R[write to console]: =\n",
            "WARNING:rpy2.rinterface_lib.callbacks:R[write to console]: =\n",
            "WARNING:rpy2.rinterface_lib.callbacks:R[write to console]: =\n",
            "WARNING:rpy2.rinterface_lib.callbacks:R[write to console]: =\n",
            "WARNING:rpy2.rinterface_lib.callbacks:R[write to console]: =\n",
            "WARNING:rpy2.rinterface_lib.callbacks:R[write to console]: =\n",
            "WARNING:rpy2.rinterface_lib.callbacks:R[write to console]: =\n",
            "WARNING:rpy2.rinterface_lib.callbacks:R[write to console]: =\n",
            "WARNING:rpy2.rinterface_lib.callbacks:R[write to console]: =\n",
            "WARNING:rpy2.rinterface_lib.callbacks:R[write to console]: =\n",
            "WARNING:rpy2.rinterface_lib.callbacks:R[write to console]: =\n",
            "WARNING:rpy2.rinterface_lib.callbacks:R[write to console]: =\n",
            "WARNING:rpy2.rinterface_lib.callbacks:R[write to console]: =\n",
            "WARNING:rpy2.rinterface_lib.callbacks:R[write to console]: =\n",
            "WARNING:rpy2.rinterface_lib.callbacks:R[write to console]: =\n",
            "WARNING:rpy2.rinterface_lib.callbacks:R[write to console]: =\n",
            "WARNING:rpy2.rinterface_lib.callbacks:R[write to console]: =\n",
            "WARNING:rpy2.rinterface_lib.callbacks:R[write to console]: =\n",
            "WARNING:rpy2.rinterface_lib.callbacks:R[write to console]: =\n",
            "WARNING:rpy2.rinterface_lib.callbacks:R[write to console]: =\n",
            "WARNING:rpy2.rinterface_lib.callbacks:R[write to console]: =\n",
            "WARNING:rpy2.rinterface_lib.callbacks:R[write to console]: =\n",
            "WARNING:rpy2.rinterface_lib.callbacks:R[write to console]: =\n",
            "WARNING:rpy2.rinterface_lib.callbacks:R[write to console]: \n",
            "\n",
            "WARNING:rpy2.rinterface_lib.callbacks:R[write to console]: downloaded 1.2 MB\n",
            "\n",
            "\n",
            "WARNING:rpy2.rinterface_lib.callbacks:R[write to console]: \n",
            "\n",
            "WARNING:rpy2.rinterface_lib.callbacks:R[write to console]: \n",
            "WARNING:rpy2.rinterface_lib.callbacks:R[write to console]: The downloaded source packages are in\n",
            "\t‘/tmp/RtmpsUT7Ib/downloaded_packages’\n",
            "WARNING:rpy2.rinterface_lib.callbacks:R[write to console]: \n",
            "WARNING:rpy2.rinterface_lib.callbacks:R[write to console]: \n",
            "\n",
            "WARNING:rpy2.rinterface_lib.callbacks:R[write to console]: Installing package into ‘/usr/local/lib/R/site-library’\n",
            "(as ‘lib’ is unspecified)\n",
            "\n",
            "WARNING:rpy2.rinterface_lib.callbacks:R[write to console]: trying URL 'https://cran.rstudio.com/src/contrib/randomForest_4.7-1.2.tar.gz'\n",
            "\n",
            "WARNING:rpy2.rinterface_lib.callbacks:R[write to console]: Content type 'application/x-gzip'\n",
            "WARNING:rpy2.rinterface_lib.callbacks:R[write to console]:  length 81974 bytes (80 KB)\n",
            "\n",
            "WARNING:rpy2.rinterface_lib.callbacks:R[write to console]: =\n",
            "WARNING:rpy2.rinterface_lib.callbacks:R[write to console]: =\n",
            "WARNING:rpy2.rinterface_lib.callbacks:R[write to console]: =\n",
            "WARNING:rpy2.rinterface_lib.callbacks:R[write to console]: =\n",
            "WARNING:rpy2.rinterface_lib.callbacks:R[write to console]: =\n",
            "WARNING:rpy2.rinterface_lib.callbacks:R[write to console]: =\n",
            "WARNING:rpy2.rinterface_lib.callbacks:R[write to console]: =\n",
            "WARNING:rpy2.rinterface_lib.callbacks:R[write to console]: =\n",
            "WARNING:rpy2.rinterface_lib.callbacks:R[write to console]: =\n",
            "WARNING:rpy2.rinterface_lib.callbacks:R[write to console]: =\n",
            "WARNING:rpy2.rinterface_lib.callbacks:R[write to console]: =\n",
            "WARNING:rpy2.rinterface_lib.callbacks:R[write to console]: =\n",
            "WARNING:rpy2.rinterface_lib.callbacks:R[write to console]: =\n",
            "WARNING:rpy2.rinterface_lib.callbacks:R[write to console]: =\n",
            "WARNING:rpy2.rinterface_lib.callbacks:R[write to console]: =\n",
            "WARNING:rpy2.rinterface_lib.callbacks:R[write to console]: =\n",
            "WARNING:rpy2.rinterface_lib.callbacks:R[write to console]: =\n",
            "WARNING:rpy2.rinterface_lib.callbacks:R[write to console]: =\n",
            "WARNING:rpy2.rinterface_lib.callbacks:R[write to console]: =\n",
            "WARNING:rpy2.rinterface_lib.callbacks:R[write to console]: =\n",
            "WARNING:rpy2.rinterface_lib.callbacks:R[write to console]: =\n",
            "WARNING:rpy2.rinterface_lib.callbacks:R[write to console]: =\n",
            "WARNING:rpy2.rinterface_lib.callbacks:R[write to console]: =\n",
            "WARNING:rpy2.rinterface_lib.callbacks:R[write to console]: =\n",
            "WARNING:rpy2.rinterface_lib.callbacks:R[write to console]: =\n",
            "WARNING:rpy2.rinterface_lib.callbacks:R[write to console]: =\n",
            "WARNING:rpy2.rinterface_lib.callbacks:R[write to console]: =\n",
            "WARNING:rpy2.rinterface_lib.callbacks:R[write to console]: =\n",
            "WARNING:rpy2.rinterface_lib.callbacks:R[write to console]: =\n",
            "WARNING:rpy2.rinterface_lib.callbacks:R[write to console]: =\n",
            "WARNING:rpy2.rinterface_lib.callbacks:R[write to console]: =\n",
            "WARNING:rpy2.rinterface_lib.callbacks:R[write to console]: =\n",
            "WARNING:rpy2.rinterface_lib.callbacks:R[write to console]: =\n",
            "WARNING:rpy2.rinterface_lib.callbacks:R[write to console]: =\n",
            "WARNING:rpy2.rinterface_lib.callbacks:R[write to console]: =\n",
            "WARNING:rpy2.rinterface_lib.callbacks:R[write to console]: =\n",
            "WARNING:rpy2.rinterface_lib.callbacks:R[write to console]: =\n",
            "WARNING:rpy2.rinterface_lib.callbacks:R[write to console]: =\n",
            "WARNING:rpy2.rinterface_lib.callbacks:R[write to console]: =\n",
            "WARNING:rpy2.rinterface_lib.callbacks:R[write to console]: =\n",
            "WARNING:rpy2.rinterface_lib.callbacks:R[write to console]: =\n",
            "WARNING:rpy2.rinterface_lib.callbacks:R[write to console]: =\n",
            "WARNING:rpy2.rinterface_lib.callbacks:R[write to console]: =\n",
            "WARNING:rpy2.rinterface_lib.callbacks:R[write to console]: =\n",
            "WARNING:rpy2.rinterface_lib.callbacks:R[write to console]: =\n",
            "WARNING:rpy2.rinterface_lib.callbacks:R[write to console]: =\n",
            "WARNING:rpy2.rinterface_lib.callbacks:R[write to console]: =\n",
            "WARNING:rpy2.rinterface_lib.callbacks:R[write to console]: =\n",
            "WARNING:rpy2.rinterface_lib.callbacks:R[write to console]: =\n",
            "WARNING:rpy2.rinterface_lib.callbacks:R[write to console]: =\n",
            "WARNING:rpy2.rinterface_lib.callbacks:R[write to console]: \n",
            "\n",
            "WARNING:rpy2.rinterface_lib.callbacks:R[write to console]: downloaded 80 KB\n",
            "\n",
            "\n",
            "WARNING:rpy2.rinterface_lib.callbacks:R[write to console]: \n",
            "\n",
            "WARNING:rpy2.rinterface_lib.callbacks:R[write to console]: \n",
            "WARNING:rpy2.rinterface_lib.callbacks:R[write to console]: The downloaded source packages are in\n",
            "\t‘/tmp/RtmpsUT7Ib/downloaded_packages’\n",
            "WARNING:rpy2.rinterface_lib.callbacks:R[write to console]: \n",
            "WARNING:rpy2.rinterface_lib.callbacks:R[write to console]: \n",
            "\n",
            "WARNING:rpy2.rinterface_lib.callbacks:R[write to console]: Installing package into ‘/usr/local/lib/R/site-library’\n",
            "(as ‘lib’ is unspecified)\n",
            "\n",
            "WARNING:rpy2.rinterface_lib.callbacks:R[write to console]: trying URL 'https://cran.rstudio.com/src/contrib/caret_7.0-1.tar.gz'\n",
            "\n",
            "WARNING:rpy2.rinterface_lib.callbacks:R[write to console]: Content type 'application/x-gzip'\n",
            "WARNING:rpy2.rinterface_lib.callbacks:R[write to console]:  length 2273919 bytes (2.2 MB)\n",
            "\n",
            "WARNING:rpy2.rinterface_lib.callbacks:R[write to console]: =\n",
            "WARNING:rpy2.rinterface_lib.callbacks:R[write to console]: =\n",
            "WARNING:rpy2.rinterface_lib.callbacks:R[write to console]: =\n",
            "WARNING:rpy2.rinterface_lib.callbacks:R[write to console]: =\n",
            "WARNING:rpy2.rinterface_lib.callbacks:R[write to console]: =\n",
            "WARNING:rpy2.rinterface_lib.callbacks:R[write to console]: =\n",
            "WARNING:rpy2.rinterface_lib.callbacks:R[write to console]: =\n",
            "WARNING:rpy2.rinterface_lib.callbacks:R[write to console]: =\n",
            "WARNING:rpy2.rinterface_lib.callbacks:R[write to console]: =\n",
            "WARNING:rpy2.rinterface_lib.callbacks:R[write to console]: =\n",
            "WARNING:rpy2.rinterface_lib.callbacks:R[write to console]: =\n",
            "WARNING:rpy2.rinterface_lib.callbacks:R[write to console]: =\n",
            "WARNING:rpy2.rinterface_lib.callbacks:R[write to console]: =\n",
            "WARNING:rpy2.rinterface_lib.callbacks:R[write to console]: =\n",
            "WARNING:rpy2.rinterface_lib.callbacks:R[write to console]: =\n",
            "WARNING:rpy2.rinterface_lib.callbacks:R[write to console]: =\n",
            "WARNING:rpy2.rinterface_lib.callbacks:R[write to console]: =\n",
            "WARNING:rpy2.rinterface_lib.callbacks:R[write to console]: =\n",
            "WARNING:rpy2.rinterface_lib.callbacks:R[write to console]: =\n",
            "WARNING:rpy2.rinterface_lib.callbacks:R[write to console]: =\n",
            "WARNING:rpy2.rinterface_lib.callbacks:R[write to console]: =\n",
            "WARNING:rpy2.rinterface_lib.callbacks:R[write to console]: =\n",
            "WARNING:rpy2.rinterface_lib.callbacks:R[write to console]: =\n",
            "WARNING:rpy2.rinterface_lib.callbacks:R[write to console]: =\n",
            "WARNING:rpy2.rinterface_lib.callbacks:R[write to console]: =\n",
            "WARNING:rpy2.rinterface_lib.callbacks:R[write to console]: =\n",
            "WARNING:rpy2.rinterface_lib.callbacks:R[write to console]: =\n",
            "WARNING:rpy2.rinterface_lib.callbacks:R[write to console]: =\n",
            "WARNING:rpy2.rinterface_lib.callbacks:R[write to console]: =\n",
            "WARNING:rpy2.rinterface_lib.callbacks:R[write to console]: =\n",
            "WARNING:rpy2.rinterface_lib.callbacks:R[write to console]: =\n",
            "WARNING:rpy2.rinterface_lib.callbacks:R[write to console]: =\n",
            "WARNING:rpy2.rinterface_lib.callbacks:R[write to console]: =\n",
            "WARNING:rpy2.rinterface_lib.callbacks:R[write to console]: =\n",
            "WARNING:rpy2.rinterface_lib.callbacks:R[write to console]: =\n",
            "WARNING:rpy2.rinterface_lib.callbacks:R[write to console]: =\n",
            "WARNING:rpy2.rinterface_lib.callbacks:R[write to console]: =\n",
            "WARNING:rpy2.rinterface_lib.callbacks:R[write to console]: =\n",
            "WARNING:rpy2.rinterface_lib.callbacks:R[write to console]: =\n",
            "WARNING:rpy2.rinterface_lib.callbacks:R[write to console]: =\n",
            "WARNING:rpy2.rinterface_lib.callbacks:R[write to console]: =\n",
            "WARNING:rpy2.rinterface_lib.callbacks:R[write to console]: =\n",
            "WARNING:rpy2.rinterface_lib.callbacks:R[write to console]: =\n",
            "WARNING:rpy2.rinterface_lib.callbacks:R[write to console]: =\n",
            "WARNING:rpy2.rinterface_lib.callbacks:R[write to console]: =\n",
            "WARNING:rpy2.rinterface_lib.callbacks:R[write to console]: =\n",
            "WARNING:rpy2.rinterface_lib.callbacks:R[write to console]: =\n",
            "WARNING:rpy2.rinterface_lib.callbacks:R[write to console]: =\n",
            "WARNING:rpy2.rinterface_lib.callbacks:R[write to console]: =\n",
            "WARNING:rpy2.rinterface_lib.callbacks:R[write to console]: =\n",
            "WARNING:rpy2.rinterface_lib.callbacks:R[write to console]: \n",
            "\n",
            "WARNING:rpy2.rinterface_lib.callbacks:R[write to console]: downloaded 2.2 MB\n",
            "\n",
            "\n",
            "WARNING:rpy2.rinterface_lib.callbacks:R[write to console]: \n",
            "\n",
            "WARNING:rpy2.rinterface_lib.callbacks:R[write to console]: \n",
            "WARNING:rpy2.rinterface_lib.callbacks:R[write to console]: The downloaded source packages are in\n",
            "\t‘/tmp/RtmpsUT7Ib/downloaded_packages’\n",
            "WARNING:rpy2.rinterface_lib.callbacks:R[write to console]: \n",
            "WARNING:rpy2.rinterface_lib.callbacks:R[write to console]: \n",
            "\n"
          ]
        }
      ],
      "source": [
        "%%R\n",
        "# Install packages\n",
        "#install.packages(\"ggplot2\", dependencies = TRUE)\n",
        "install.packages(\"dplyr\", dependencies = TRUE)\n",
        "install.packages(\"randomForest\", dependencies = TRUE)\n",
        "install.packages(\"caret\", dependencies = TRUE)\n",
        "\n",
        "# Import necessary libraries\n",
        "#library(ggplot2)\n",
        "#library(dplyr)\n",
        "#library(randomForest)"
      ]
    },
    {
      "cell_type": "code",
      "execution_count": 7,
      "metadata": {
        "id": "N1J5Q23_25bg",
        "colab": {
          "base_uri": "https://localhost:8080/"
        },
        "outputId": "00f407e6-11cc-4b10-9031-76e012a33452"
      },
      "outputs": [
        {
          "output_type": "stream",
          "name": "stderr",
          "text": [
            "WARNING:rpy2.rinterface_lib.callbacks:R[write to console]: \n",
            "Attaching package: ‘dplyr’\n",
            "\n",
            "\n",
            "WARNING:rpy2.rinterface_lib.callbacks:R[write to console]: The following objects are masked from ‘package:stats’:\n",
            "\n",
            "    filter, lag\n",
            "\n",
            "\n",
            "WARNING:rpy2.rinterface_lib.callbacks:R[write to console]: The following objects are masked from ‘package:base’:\n",
            "\n",
            "    intersect, setdiff, setequal, union\n",
            "\n",
            "\n",
            "WARNING:rpy2.rinterface_lib.callbacks:R[write to console]: randomForest 4.7-1.2\n",
            "\n",
            "WARNING:rpy2.rinterface_lib.callbacks:R[write to console]: Type rfNews() to see new features/changes/bug fixes.\n",
            "\n",
            "WARNING:rpy2.rinterface_lib.callbacks:R[write to console]: \n",
            "Attaching package: ‘randomForest’\n",
            "\n",
            "\n",
            "WARNING:rpy2.rinterface_lib.callbacks:R[write to console]: The following object is masked from ‘package:dplyr’:\n",
            "\n",
            "    combine\n",
            "\n",
            "\n",
            "WARNING:rpy2.rinterface_lib.callbacks:R[write to console]: Loading required package: ggplot2\n",
            "\n",
            "WARNING:rpy2.rinterface_lib.callbacks:R[write to console]: \n",
            "Attaching package: ‘ggplot2’\n",
            "\n",
            "\n",
            "WARNING:rpy2.rinterface_lib.callbacks:R[write to console]: The following object is masked from ‘package:randomForest’:\n",
            "\n",
            "    margin\n",
            "\n",
            "\n",
            "WARNING:rpy2.rinterface_lib.callbacks:R[write to console]: Loading required package: lattice\n",
            "\n"
          ]
        }
      ],
      "source": [
        "%%R\n",
        "# Import necessary libraries\n",
        "#library(ggplot2)\n",
        "library(dplyr)\n",
        "library(randomForest)\n",
        "library(caret)\n"
      ]
    },
    {
      "cell_type": "code",
      "execution_count": 4,
      "metadata": {
        "id": "08SVP8O05TXO"
      },
      "outputs": [],
      "source": [
        "%%R\n",
        "# Read the dataset\n",
        "click <- read.csv(\"ad_click_dataset.csv\")"
      ]
    },
    {
      "cell_type": "code",
      "execution_count": 9,
      "metadata": {
        "colab": {
          "base_uri": "https://localhost:8080/",
          "height": 497
        },
        "id": "32wOcIKj68L6",
        "outputId": "74258ec7-e9af-46cc-fc55-1b5d39f89a58"
      },
      "outputs": [
        {
          "output_type": "display_data",
          "data": {
            "image/png": "[encoded data removed]"
          },
          "metadata": {}
        }
      ],
      "source": [
        "%%R\n",
        "# Distribution of outcome variable\n",
        "ggplot(click, aes(x = click)) +\n",
        "  geom_histogram(binwidth = 0.5, fill = \"lightblue\", color = \"black\") +\n",
        "  labs(title = \"Distribution of Clicks\", x = \"Click\", y = \"Frequency\") +\n",
        "  theme_minimal()"
      ]
    },
    {
      "cell_type": "code",
      "execution_count": 10,
      "metadata": {
        "colab": {
          "base_uri": "https://localhost:8080/"
        },
        "id": "nMnVUimb7aV9",
        "outputId": "f6b7cbe9-e2f6-417d-b39a-394b56da8295"
      },
      "outputs": [
        {
          "output_type": "stream",
          "name": "stdout",
          "text": [
            "\n",
            "   0    1 \n",
            "3500 6500 \n"
          ]
        }
      ],
      "source": [
        "%%R\n",
        "table(click$click)"
      ]
    },
    {
      "cell_type": "code",
      "execution_count": 11,
      "metadata": {
        "colab": {
          "base_uri": "https://localhost:8080/"
        },
        "id": "eqPx9cto73Aq",
        "outputId": "04d6015c-a0cd-4822-fc25-b37b6a3d2130"
      },
      "outputs": [
        {
          "output_type": "stream",
          "name": "stdout",
          "text": [
            "     id full_name age     gender device_type ad_position browsing_history\n",
            "1   670   User670  22                Desktop         Top         Shopping\n",
            "2  3044  User3044  NA       Male     Desktop         Top                 \n",
            "3  5912  User5912  41 Non-Binary                    Side        Education\n",
            "4  5418  User5418  34       Male                            Entertainment\n",
            "5  9452  User9452  39 Non-Binary                             Social Media\n",
            "6  5942  User5942  NA Non-Binary                  Bottom     Social Media\n",
            "7  7808  User7808  26     Female     Desktop         Top                 \n",
            "8  5065  User5065  40       Male      Mobile        Side                 \n",
            "9  7993  User7993  NA Non-Binary      Mobile      Bottom     Social Media\n",
            "10 4509  User4509  NA                             Bottom        Education\n",
            "   time_of_day click\n",
            "1    Afternoon     1\n",
            "2                  1\n",
            "3        Night     1\n",
            "4      Evening     1\n",
            "5      Morning     0\n",
            "6      Evening     1\n",
            "7                  1\n",
            "8      Evening     0\n",
            "9                  1\n",
            "10   Afternoon     1\n"
          ]
        }
      ],
      "source": [
        "%%R\n",
        "# Explore head\n",
        "head(click, 10)"
      ]
    },
    {
      "cell_type": "code",
      "execution_count": 12,
      "metadata": {
        "colab": {
          "base_uri": "https://localhost:8080/"
        },
        "id": "oxJoAeRr7_VX",
        "outputId": "1772a62f-3cc0-4eba-ee1b-28eecd6d707e"
      },
      "outputs": [
        {
          "output_type": "stream",
          "name": "stdout",
          "text": [
            "       id         full_name              age          gender         \n",
            " Min.   :    5   Length:10000       Min.   :18.0   Length:10000      \n",
            " 1st Qu.: 2529   Class :character   1st Qu.:29.0   Class :character  \n",
            " Median : 5218   Mode  :character   Median :39.5   Mode  :character  \n",
            " Mean   : 5060                      Mean   :40.2                     \n",
            " 3rd Qu.: 7466                      3rd Qu.:52.0                     \n",
            " Max.   :10000                      Max.   :64.0                     \n",
            "                                    NA's   :4766                     \n",
            " device_type        ad_position        browsing_history   time_of_day       \n",
            " Length:10000       Length:10000       Length:10000       Length:10000      \n",
            " Class :character   Class :character   Class :character   Class :character  \n",
            " Mode  :character   Mode  :character   Mode  :character   Mode  :character  \n",
            "                                                                            \n",
            "                                                                            \n",
            "                                                                            \n",
            "                                                                            \n",
            "     click     \n",
            " Min.   :0.00  \n",
            " 1st Qu.:0.00  \n",
            " Median :1.00  \n",
            " Mean   :0.65  \n",
            " 3rd Qu.:1.00  \n",
            " Max.   :1.00  \n",
            "               \n"
          ]
        }
      ],
      "source": [
        "%%R\n",
        "# Feature stats & data type\n",
        "summary(click)\n"
      ]
    },
    {
      "cell_type": "code",
      "execution_count": 13,
      "metadata": {
        "colab": {
          "base_uri": "https://localhost:8080/"
        },
        "id": "LTr_giko8Uvp",
        "outputId": "f092f7c5-e9e1-4b33-a677-40d5d0f3fd15"
      },
      "outputs": [
        {
          "output_type": "stream",
          "name": "stdout",
          "text": [
            "'data.frame':\t10000 obs. of  9 variables:\n",
            " $ id              : int  670 3044 5912 5418 9452 5942 7808 5065 7993 4509 ...\n",
            " $ full_name       : chr  \"User670\" \"User3044\" \"User5912\" \"User5418\" ...\n",
            " $ age             : num  22 NA 41 34 39 NA 26 40 NA NA ...\n",
            " $ gender          : chr  \"\" \"Male\" \"Non-Binary\" \"Male\" ...\n",
            " $ device_type     : chr  \"Desktop\" \"Desktop\" \"\" \"\" ...\n",
            " $ ad_position     : chr  \"Top\" \"Top\" \"Side\" \"\" ...\n",
            " $ browsing_history: chr  \"Shopping\" \"\" \"Education\" \"Entertainment\" ...\n",
            " $ time_of_day     : chr  \"Afternoon\" \"\" \"Night\" \"Evening\" ...\n",
            " $ click           : int  1 1 1 1 0 1 1 0 1 1 ...\n"
          ]
        }
      ],
      "source": [
        "%%R\n",
        "# Feature stats & data type\n",
        "str(click)"
      ]
    },
    {
      "cell_type": "code",
      "source": [
        "%%R\n",
        "colSums(click == \"\" | is.na(click))"
      ],
      "metadata": {
        "colab": {
          "base_uri": "https://localhost:8080/"
        },
        "id": "osuPi5pxNxXu",
        "outputId": "47d26587-e590-4c00-a615-387bd7d6c392"
      },
      "execution_count": 14,
      "outputs": [
        {
          "output_type": "stream",
          "name": "stdout",
          "text": [
            "              id        full_name              age           gender \n",
            "               0                0             4766             4693 \n",
            "     device_type      ad_position browsing_history      time_of_day \n",
            "            2000             2000             4782             2000 \n",
            "           click \n",
            "               0 \n"
          ]
        }
      ]
    },
    {
      "cell_type": "code",
      "execution_count": 5,
      "metadata": {
        "colab": {
          "base_uri": "https://localhost:8080/",
          "height": 497
        },
        "id": "yf-Ry3dgV6vl",
        "outputId": "cc85673b-088f-422c-f159-ccb41f2c7c4b"
      },
      "outputs": [
        {
          "output_type": "display_data",
          "data": {
            "image/png": "[encoded data removed]"
          },
          "metadata": {}
        }
      ],
      "source": [
        "%%R\n",
        "# The younger audience more predisposed to click. Hence, Age has to be one of the predictors\n",
        "\n",
        "\n",
        "# Distribution of outcome variable\n",
        "#ggplot(click, aes(x = click)) +\n",
        "  #geom_histogram(binwidth = 0.5, fill = \"lightblue\", color = \"black\") +\n",
        "  #labs(title = \"Distribution of Clicks\", x = \"Click\", y = \"Frequency\") +\n",
        "  #theme_minimal()\n",
        "\n",
        "# Boxplot of age by click\n",
        "boxplot(age ~ click, data = click, main = \"Boxplot of Age by Click\")\n",
        "\n",
        "# Scatterplot of browsing history by click\n",
        "#plot(click ~ browsing_history, data = click, main = \"Scatterplot of Browsing History by Click\")"
      ]
    },
    {
      "cell_type": "code",
      "source": [
        "%%R\n",
        "# Install and load necessary libraries in order to IMPUTE AGE\n",
        "#if (!require(mice)) install.packages(\"mice\")\n",
        "#library(mice)\n",
        "\n",
        "# IMPUTE MISSING VALUES in 'age' using mice\n",
        "#imputed_data <- mice(click[, \"age\", drop = FALSE], m = 5, maxit = 10, method = \"pmm\", seed = 0)\n",
        "\n",
        "# Extract the completed dataset with imputed values\n",
        "#click$age <- complete(imputed_data, 1)  # Use the first imputed dataset\n",
        "\n",
        "# IMPUTE NA in age as mean age\n",
        "click$age[is.na(click$age)] <- mean(click$age, na.rm = TRUE)"
      ],
      "metadata": {
        "id": "hqz6kKuqIW1K"
      },
      "execution_count": 16,
      "outputs": []
    },
    {
      "cell_type": "code",
      "source": [
        "%%R\n",
        "# Function to replace blanks with most frequent value\n",
        "replace_blanks_with_most_frequent <- function(x) {\n",
        "  # Identify blanks and replace with most frequent (excluding blanks)\n",
        "  most_frequent <- names(which.max(table(x[x != \"\"])))\n",
        "  x[x == \"\"] <- most_frequent\n",
        "  return(x)\n",
        "}\n",
        "\n",
        "# Apply replacement to specified columns\n",
        "click[, c(\"device_type\", \"ad_position\", \"browsing_history\", \"time_of_day\")] <-\n",
        "  lapply(click[, c(\"device_type\", \"ad_position\", \"browsing_history\", \"time_of_day\")],\n",
        "         replace_blanks_with_most_frequent)"
      ],
      "metadata": {
        "id": "mO2cLc90LV13"
      },
      "execution_count": 17,
      "outputs": []
    },
    {
      "cell_type": "code",
      "source": [
        "%%R\n",
        "# Extract the completed da\n",
        "colSums(click == \"\" | is.na(click))"
      ],
      "metadata": {
        "colab": {
          "base_uri": "https://localhost:8080/"
        },
        "id": "WPIGdr7TmBxU",
        "outputId": "7a3cf04e-1f61-4bf0-cb1e-36d75f3396a5"
      },
      "execution_count": 18,
      "outputs": [
        {
          "output_type": "stream",
          "name": "stdout",
          "text": [
            "              id        full_name              age           gender \n",
            "               0                0                0             4693 \n",
            "     device_type      ad_position browsing_history      time_of_day \n",
            "               0                0                0                0 \n",
            "           click \n",
            "               0 \n"
          ]
        }
      ]
    },
    {
      "cell_type": "code",
      "source": [
        "%%R\n",
        "# Select relevant features and target variable\n",
        "data <- click[, c(\"id\", \"age\", \"device_type\", \"ad_position\", \"browsing_history\", \"time_of_day\", \"click\")]\n",
        "# Convert categorical features to factors\n",
        "data$device_type <- as.factor(data$device_type)\n",
        "data$ad_position <- as.factor(data$ad_position)\n",
        "data$browsing_history <- as.factor(data$browsing_history)\n",
        "data$time_of_day <- as.factor(data$time_of_day)"
      ],
      "metadata": {
        "id": "Zj0xsjGg_w-B"
      },
      "execution_count": 19,
      "outputs": []
    },
    {
      "cell_type": "code",
      "source": [
        "%%R\n",
        "# Split data into training and testing sets\n",
        "set.seed(42) # For reproducibility\n",
        "trainIndex <- createDataPartition(data$click, p = 0.7, list = FALSE)\n",
        "trainData <- data[trainIndex, ]\n",
        "testData <- data[-trainIndex, ]"
      ],
      "metadata": {
        "id": "eBQRAtG9Flp5"
      },
      "execution_count": 20,
      "outputs": []
    },
    {
      "cell_type": "code",
      "source": [
        "%%R\n",
        "# Model Training\n",
        "# Train a random forest classifier\n",
        "rfModel <- randomForest(click ~ ., data = trainData, ntree = 100)\n",
        "\n",
        "# Model Prediction\n",
        "# Predict on the testing set\n",
        "predictions <- predict(rfModel, newdata = testData, type = \"response\")\n",
        "predictions <- as.numeric(as.character(predictions))\n",
        "binary_predictions <- ifelse(predictions > 0.5, 1, 0) # Assuming column \"1\" has probabilities for class 1\n",
        "# Model Evaluation [, \"click\"]\n",
        "# Evaluate model performance\n",
        "# CAB'T FIGURE OUT WHY PREDICTED CLICK AND ACTUAL CLICK HAVE DIFFERENT LEVELS - one is numeric and the other is int"
      ],
      "metadata": {
        "id": "27uvmYYMF5mD"
      },
      "execution_count": 21,
      "outputs": []
    },
    {
      "cell_type": "code",
      "source": [
        "%%R\n",
        "#head(binary_predictions, 10)\n",
        "head(testData, 10)\n",
        "#head(predictions, 10)"
      ],
      "metadata": {
        "colab": {
          "base_uri": "https://localhost:8080/"
        },
        "id": "JJTOBE4f07fS",
        "outputId": "6aa42bd6-cdb8-4365-f035-9df9cfa80cb2"
      },
      "execution_count": 22,
      "outputs": [
        {
          "output_type": "stream",
          "name": "stdout",
          "text": [
            "     id      age device_type ad_position browsing_history time_of_day click\n",
            "6  5942 40.19736     Desktop      Bottom     Social Media     Evening     1\n",
            "10 4509 40.19736     Desktop      Bottom        Education   Afternoon     1\n",
            "12 7466 47.00000      Mobile      Bottom    Entertainment   Afternoon     1\n",
            "14 2023 19.00000     Desktop      Bottom    Entertainment     Morning     1\n",
            "20 7335 24.00000      Tablet        Side    Entertainment       Night     0\n",
            "21 5569 40.19736      Mobile      Bottom    Entertainment   Afternoon     1\n",
            "28 5055 45.00000     Desktop      Bottom        Education     Morning     1\n",
            "33 6862 40.19736      Tablet        Side    Entertainment     Morning     1\n",
            "34 4985 37.00000      Mobile         Top             News     Evening     0\n",
            "36 1524 24.00000      Mobile      Bottom    Entertainment       Night     1\n"
          ]
        }
      ]
    },
    {
      "cell_type": "code",
      "source": [
        "%%R\n",
        "# Convert binary_predictions to a factor with the same levels as testData$click\n",
        "#binary_predictions <- factor(binary_predictions, levels = levels(testData$click))\n",
        "binary_predictions <- factor(binary_predictions)\n",
        "testData$click <- factor(testData$click)\n",
        "\n",
        "# Check levels of binary_predictions\n",
        "levels(binary_predictions)\n",
        "\n",
        "# Check levels of testData$click\n",
        "levels(testData$click)"
      ],
      "metadata": {
        "colab": {
          "base_uri": "https://localhost:8080/"
        },
        "id": "s6bQstuInIqF",
        "outputId": "206c2bc9-03f4-4a7d-c22c-03c765848bec"
      },
      "execution_count": 23,
      "outputs": [
        {
          "output_type": "stream",
          "name": "stdout",
          "text": [
            "[1] \"0\" \"1\"\n"
          ]
        }
      ]
    },
    {
      "cell_type": "code",
      "source": [
        "%%R\n",
        "# Produce confusionMatrix to assess accuracy. The model built in R has lower accuracy,\n",
        "# 0.669 vs 0.708 (Python built model), although precision is higher in R, but recall & F1 is much poorer\n",
        "confusionMatrix(binary_predictions, testData$click)\n"
      ],
      "metadata": {
        "colab": {
          "base_uri": "https://localhost:8080/"
        },
        "id": "aXiPZS_WAYOC",
        "outputId": "0ee6b906-5d47-4389-ca84-be5c7a75c1f4"
      },
      "execution_count": 24,
      "outputs": [
        {
          "output_type": "stream",
          "name": "stdout",
          "text": [
            "Confusion Matrix and Statistics\n",
            "\n",
            "          Reference\n",
            "Prediction    0    1\n",
            "         0  500   55\n",
            "         1  545 1900\n",
            "                                          \n",
            "               Accuracy : 0.8             \n",
            "                 95% CI : (0.7852, 0.8142)\n",
            "    No Information Rate : 0.6517          \n",
            "    P-Value [Acc > NIR] : < 2.2e-16       \n",
            "                                          \n",
            "                  Kappa : 0.5055          \n",
            "                                          \n",
            " Mcnemar's Test P-Value : < 2.2e-16       \n",
            "                                          \n",
            "            Sensitivity : 0.4785          \n",
            "            Specificity : 0.9719          \n",
            "         Pos Pred Value : 0.9009          \n",
            "         Neg Pred Value : 0.7771          \n",
            "             Prevalence : 0.3483          \n",
            "         Detection Rate : 0.1667          \n",
            "   Detection Prevalence : 0.1850          \n",
            "      Balanced Accuracy : 0.7252          \n",
            "                                          \n",
            "       'Positive' Class : 0               \n",
            "                                          \n"
          ]
        }
      ]
    },
    {
      "cell_type": "code",
      "source": [
        "%%R\n",
        "# Produce confusionMatrix to assess accuracy. The model built in R has higher accuracy,\n",
        "# 0.8 vs 0.708 (Python built model), although precision is higher in R, but recall & F1 is poorer\n",
        "confusionMatrix(binary_predictions, testData$click)\n",
        "\n",
        "# Calculate confusion matrix\n",
        "conf_matrix <- confusionMatrix(binary_predictions, testData$click)\n",
        "\n",
        "# Extract precision, recall, and F1 score\n",
        "precision <- conf_matrix$byClass['Pos Pred Value']\n",
        "recall <- conf_matrix$byClass['Sensitivity']\n",
        "f1_score <- conf_matrix$byClass['F1']\n",
        "\n",
        "# Print the results\n",
        "print(paste(\"Precision:\", precision))\n",
        "print(paste(\"Recall:\", recall))\n",
        "print(paste(\"F1 Score:\", f1_score))\n"
      ],
      "metadata": {
        "colab": {
          "base_uri": "https://localhost:8080/"
        },
        "id": "vA6FQ0ALWjPM",
        "outputId": "2c954002-34ed-4c0e-da1a-1132d8e3b96a"
      },
      "execution_count": 25,
      "outputs": [
        {
          "output_type": "stream",
          "name": "stdout",
          "text": [
            "[1] \"Precision: 0.900900900900901\"\n",
            "[1] \"Recall: 0.478468899521531\"\n",
            "[1] \"F1 Score: 0.625\"\n"
          ]
        }
      ]
    },
    {
      "cell_type": "code",
      "source": [
        "%%R\n",
        "# Lookalike Identification\n",
        "# Identify potential lookalikes (e.g., those with high predicted probability of clicking)\n",
        "#testData$predicted_probability <- predict(rfModel, newdata = testData, type = \"prob\")[, \"1\"]\n",
        "#lookalikes <- testData[testData$predicted_probability > 0.7, ] # Adjust threshold as needed\n",
        "\n",
        "# Assuming 'customer_id_test', 'y_pred', and 'y_testNEW' are your variables\n",
        "predictions_df <- data.frame(\n",
        "  `Customer ID` = testData$id,\n",
        "  `Predicted Click` = binary_predictions,\n",
        "  `Actual Click` = testData$click\n",
        ")\n",
        "\n",
        "# Display the predictions data frame\n",
        "head(predictions_df,10)"
      ],
      "metadata": {
        "colab": {
          "base_uri": "https://localhost:8080/"
        },
        "id": "pYDbrqDVGDKB",
        "outputId": "a2ff54fc-439d-439b-de91-4ee738d28d04"
      },
      "execution_count": 26,
      "outputs": [
        {
          "output_type": "stream",
          "name": "stdout",
          "text": [
            "   Customer.ID Predicted.Click Actual.Click\n",
            "1         5942               1            1\n",
            "2         4509               1            1\n",
            "3         7466               1            1\n",
            "4         2023               1            1\n",
            "5         7335               0            0\n",
            "6         5569               1            1\n",
            "7         5055               1            1\n",
            "8         6862               1            1\n",
            "9         4985               0            0\n",
            "10        1524               1            1\n"
          ]
        }
      ]
    }
  ],
  "metadata": {
    "colab": {
      "provenance": [],
      "authorship_tag": "ABX9TyO61c201yHZGg/8mUVwe1GE",
      "include_colab_link": true
    },
    "kernelspec": {
      "display_name": "Python 3",
      "name": "python3"
    },
    "language_info": {
      "name": "python"
    }
  },
  "nbformat": 4,
  "nbformat_minor": 0
}